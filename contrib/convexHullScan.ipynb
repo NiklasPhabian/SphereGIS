{
 "cells": [
  {
   "cell_type": "code",
   "execution_count": 1,
   "metadata": {},
   "outputs": [],
   "source": [
    "import geopandas\n",
    "import numpy\n",
    "import numpy\n",
    "import math\n",
    "import shapely\n",
    "import matplotlib.pyplot as plt\n",
    "import datetime"
   ]
  },
  {
   "cell_type": "code",
   "execution_count": 2,
   "metadata": {},
   "outputs": [
    {
     "data": {
      "image/png": "[encoded data removed]",
      "text/plain": [
       "<Figure size 432x288 with 1 Axes>"
      ]
     },
     "metadata": {
      "needs_background": "light"
     },
     "output_type": "display_data"
    }
   ],
   "source": [
    "# Loading the geometries\n",
    "fig, ax = plt.subplots()\n",
    "ax.grid(True)\n",
    "\n",
    "# 3:4 is canada 29:30 Brazil\n",
    "polygons = geopandas.read_file(geopandas.datasets.get_path('naturalearth_lowres'))#[4:5]\n",
    "polygons = polygons[polygons.name =='United States of America']\n",
    "\n",
    "# 3:4 is trinidad\n",
    "polygons = geopandas.read_file('../data/caribbean.gpkg')[3:4]\n",
    "\n",
    "#polygons = geopandas.read_file('../data/santa_barbara.gpkg')\n",
    "\n",
    "polygons.plot(ax=ax)\n",
    "\n",
    "geom_type = polygons.iloc[0].geometry.type\n",
    "if  geom_type == 'Polygon':\n",
    "    # We drop the last point because it is a repetition of the first point\n",
    "    lon = polygons.iloc[0].geometry.exterior.xy[0]\n",
    "    lat = polygons.iloc[0].geometry.exterior.xy[1]\n",
    "elif geom_type == 'MultiPolygon':\n",
    "    lon = []\n",
    "    lat = []\n",
    "    for p in list(polygons.iloc[0].geometry):\n",
    "        lon += p.exterior.xy[0]\n",
    "        lat += p.exterior.xy[1]\n",
    "\n",
    "# Dirty trick to get rid of duplicate points\n",
    "lat, lon = zip(*(set(zip(lat, lon))))\n",
    "\n",
    "#lat, lon = zip(*list(dict.fromkeys(zip(lat, lon))))\n",
    "#len(lat)\n",
    "#lat"
   ]
  },
  {
   "cell_type": "code",
   "execution_count": 3,
   "metadata": {},
   "outputs": [
    {
     "data": {
      "text/plain": [
       "19255"
      ]
     },
     "execution_count": 3,
     "metadata": {},
     "output_type": "execute_result"
    }
   ],
   "source": [
    "lon = numpy.array(lon)\n",
    "lat = numpy.array(lat)\n",
    "\n",
    "# We convert to ECEF vectors\n",
    "x = numpy.cos(lon/360*math.pi*2) * numpy.cos(lat/360*math.pi*2)\n",
    "y = numpy.sin(lon/360*math.pi*2) * numpy.cos(lat/360*math.pi*2)\n",
    "z = numpy.sin(lat/360*math.pi*2)\n",
    "\n",
    "# We create a nx3 matrix of the points \n",
    "nodes = numpy.array([x, y, z]).transpose()\n",
    "\n",
    "n = len(x)\n",
    "n"
   ]
  },
  {
   "cell_type": "markdown",
   "metadata": {},
   "source": [
    "# Approach "
   ]
  },
  {
   "cell_type": "code",
   "execution_count": 4,
   "metadata": {},
   "outputs": [],
   "source": [
    "# Naive\n",
    "def make_gc(from_index, to_index):\n",
    "    return numpy.cross(nodes[from_index], nodes[to_index])\n",
    "\n",
    "def find_to_index(from_index):\n",
    "    for to_index in node_indices:\n",
    "        if from_index == to_index:\n",
    "            continue\n",
    "        edge = test_edge(from_index, to_index)\n",
    "        if edge:\n",
    "            return to_index\n",
    "    return False\n",
    "\n",
    "def find_first_from_index():\n",
    "    for from_index in node_indices:\n",
    "        to_index = find_to_index(from_index)\n",
    "        if to_index:\n",
    "            break\n",
    "    return from_index\n",
    "\n",
    "def test_edge(from_index, to_index):\n",
    "    gc = numpy.cross(nodes[from_index], nodes[to_index])\n",
    "    for node_index in node_indices:\n",
    "        if node_index == to_index:\n",
    "            continue\n",
    "        elif node_index == from_index:\n",
    "            continue\n",
    "        elif numpy.array_equal(nodes[node_index ],nodes[to_index]):\n",
    "            continue            \n",
    "        else:            \n",
    "            direction = numpy.dot(nodes[node_index], gc)            \n",
    "            if direction < 0:\n",
    "                return False\n",
    "    return True        "
   ]
  },
  {
   "cell_type": "code",
   "execution_count": 5,
   "metadata": {},
   "outputs": [],
   "source": [
    "# Recursive\n",
    "\n",
    "def find_offender(from_index, to_index):\n",
    "    gc = numpy.cross(nodes[from_index], nodes[to_index])\n",
    "    for node_index in node_indices:\n",
    "        if node_index == to_index:\n",
    "            continue\n",
    "        elif node_index == from_index:\n",
    "            continue\n",
    "        elif numpy.array_equal(nodes[node_index],nodes[to_index]):\n",
    "            continue            \n",
    "        else:            \n",
    "            direction = numpy.dot(nodes[node_index], gc)            \n",
    "            if direction < 0:\n",
    "                return node_index\n",
    "    return False\n",
    "\n",
    "def find_to_index_rec(from_index):\n",
    "    to_index = None\n",
    "    to_candidate_index = 0\n",
    "    while not to_index:\n",
    "        offender = find_offender(from_index, to_candidate_index)\n",
    "        if offender is False:\n",
    "            return to_candidate_index\n",
    "        else:\n",
    "            to_candidate_index = offender"
   ]
  },
  {
   "cell_type": "code",
   "execution_count": 6,
   "metadata": {},
   "outputs": [
    {
     "data": {
      "text/plain": [
       "2462"
      ]
     },
     "execution_count": 6,
     "metadata": {},
     "output_type": "execute_result"
    }
   ],
   "source": [
    "node_indices = list(range(nodes.shape[0]))\n",
    "    \n",
    "first_from_index = find_first_from_index()\n",
    "from_index = first_from_index\n",
    "to_index = find_to_index(from_index)\n",
    "first_from_index\n",
    "to_index"
   ]
  },
  {
   "cell_type": "code",
   "execution_count": null,
   "metadata": {},
   "outputs": [],
   "source": [
    "convex_nodes = []\n",
    "while to_index != first_from_index:\n",
    "    to_index = find_to_index_rec(from_index)   \n",
    "    convex_nodes.append((from_index, to_index))\n",
    "    from_index = to_index\n",
    "convex_nodes"
   ]
  },
  {
   "cell_type": "code",
   "execution_count": null,
   "metadata": {
    "scrolled": true
   },
   "outputs": [],
   "source": [
    "convex_nodes = []\n",
    "while to_index != first_from_index:\n",
    "    to_index = find_to_index(from_index)   \n",
    "    convex_nodes.append((from_index, to_index))\n",
    "    from_index = to_index\n",
    "convex_nodes"
   ]
  },
  {
   "cell_type": "code",
   "execution_count": null,
   "metadata": {},
   "outputs": [],
   "source": [
    "convex_edges = []\n",
    "for convex_node in convex_nodes:\n",
    "    gc = make_gc(convex_node[0], convex_node[1])\n",
    "    convex_edges.append(gc)"
   ]
  },
  {
   "cell_type": "markdown",
   "metadata": {},
   "source": [
    "# Visualization"
   ]
  },
  {
   "cell_type": "code",
   "execution_count": null,
   "metadata": {},
   "outputs": [],
   "source": [
    "fig, ax = plt.subplots(dpi=200)\n",
    "ax.grid(True)\n",
    "\n",
    "polygons.plot(ax=ax, color='b')\n",
    "\n",
    "lines = []\n",
    "\n",
    "for node in convex_nodes:\n",
    "    from_node = (lon[node[0]], lat[node[0]])\n",
    "    to_node = (lon[node[1]], lat[node[1]])\n",
    "    lines.append(shapely.geometry.LineString([from_node, to_node]))\n",
    "\n",
    "    \n",
    "edges = geopandas.GeoDataFrame({'edges': lines}).set_geometry('edges')\n",
    "edges.plot(ax=ax, color='r')\n",
    "\n",
    "fig.savefig('hull.png')"
   ]
  },
  {
   "cell_type": "code",
   "execution_count": null,
   "metadata": {},
   "outputs": [],
   "source": []
  }
 ],
 "metadata": {
  "kernelspec": {
   "display_name": "Python 3",
   "language": "python",
   "name": "python3"
  },
  "language_info": {
   "codemirror_mode": {
    "name": "ipython",
    "version": 3
   },
   "file_extension": ".py",
   "mimetype": "text/x-python",
   "name": "python",
   "nbconvert_exporter": "python",
   "pygments_lexer": "ipython3",
   "version": "3.8.2"
  }
 },
 "nbformat": 4,
 "nbformat_minor": 2
}
