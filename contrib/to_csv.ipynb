{
 "cells": [
  {
   "cell_type": "code",
   "execution_count": 1,
   "metadata": {},
   "outputs": [],
   "source": [
    "import geopandas\n",
    "import pandas\n",
    "import numpy\n",
    "import math\n",
    "import matplotlib.pyplot as plt"
   ]
  },
  {
   "cell_type": "code",
   "execution_count": 2,
   "metadata": {},
   "outputs": [
    {
     "name": "stdout",
     "output_type": "stream",
     "text": [
      "['Antigua and Barbuda', 'Aruba', 'Virgin Islands, U.S.', 'Trinidad and Tobago', 'Netherlands Antilles', 'Saint Vincent and the Grenadines', 'Grenada', 'Barbados', 'Saint Lucia', 'Saint Kitts and Nevis', 'Montserrat', 'Jamaica', 'Saint-Martin', 'Haiti', 'Guadeloupe', 'Venezuela', 'Puerto Rico', 'Dominican Republic', 'Anguilla', 'Cayman Islands', 'Turks and Caicos Islands', 'United States', 'Bahamas', 'Martinique', 'Colombia', 'Saint-Barthélemy', 'Cuba', 'Dominica', 'British Virgin Islands']\n"
     ]
    },
    {
     "data": {
      "text/plain": [
       "<matplotlib.axes._subplots.AxesSubplot at 0x7f7085427130>"
      ]
     },
     "execution_count": 2,
     "metadata": {},
     "output_type": "execute_result"
    },
    {
     "data": {
      "image/png": "[encoded data removed]",
      "text/plain": [
       "<Figure size 432x288 with 1 Axes>"
      ]
     },
     "metadata": {
      "needs_background": "light"
     },
     "output_type": "display_data"
    }
   ],
   "source": [
    "fig, ax = plt.subplots()\n",
    "ax.grid(True)\n",
    "\n",
    "\n",
    "caribbean = geopandas.read_file('data/caribbean.gpkg') \n",
    "names = list(caribbean['NAME_0'])\n",
    "print(names)\n",
    "polygons = caribbean[caribbean['NAME_0'] == 'Trinidad and Tobago']\n",
    "polygons = caribbean[caribbean['NAME_0'] == names[26]] # 20, 25, 26\n",
    "\n",
    "#polygons = geopandas.read_file('../data/santa_barbara.gpkg') \n",
    "#polygons = geopandas.read_file(geopandas.datasets.get_path('naturalearth_lowres'))\n",
    "#polygons = polygons[polygons.name =='Brazil']\n",
    "polygons = geopandas.read_file('data/santa_barbara.gpkg') \n",
    "\n",
    "polygons.plot(ax=ax)"
   ]
  },
  {
   "cell_type": "code",
   "execution_count": 3,
   "metadata": {},
   "outputs": [],
   "source": [
    "geom_type = polygons.iloc[0].geometry.type\n",
    "if  geom_type == 'Polygon':\n",
    "    lon = polygons.iloc[0].geometry.exterior.xy[0]\n",
    "    lat = polygons.iloc[0].geometry.exterior.xy[1]\n",
    "elif geom_type == 'MultiPolygon':\n",
    "    lon = []\n",
    "    lat = []\n",
    "    for p in list(polygons.iloc[0].geometry):\n",
    "        lon += p.exterior.xy[0]\n",
    "        lat += p.exterior.xy[1]\n",
    "        \n",
    "lon = numpy.array(lon)\n",
    "lat = numpy.array(lat)\n",
    "\n",
    "# We convert to ECEF vectors\n",
    "x = numpy.cos(lon/360*math.pi*2) * numpy.cos(lat/360*math.pi*2)\n",
    "y = numpy.sin(lon/360*math.pi*2) * numpy.cos(lat/360*math.pi*2)\n",
    "z = numpy.sin(lat/360*math.pi*2)"
   ]
  },
  {
   "cell_type": "code",
   "execution_count": 8,
   "metadata": {},
   "outputs": [
    {
     "data": {
      "text/plain": [
       "-0.40618828376270366"
      ]
     },
     "execution_count": 8,
     "metadata": {},
     "output_type": "execute_result"
    }
   ],
   "source": [
    "len(x)\n",
    "x[5117]"
   ]
  },
  {
   "cell_type": "code",
   "execution_count": 5,
   "metadata": {},
   "outputs": [],
   "source": [
    "df = pandas.DataFrame({'x': x, 'y': y, 'z': z})\n",
    "df.to_csv('data/santa_barbara.csv', index=None, header=None)"
   ]
  },
  {
   "cell_type": "code",
   "execution_count": null,
   "metadata": {},
   "outputs": [],
   "source": []
  }
 ],
 "metadata": {
  "kernelspec": {
   "display_name": "Python 3",
   "language": "python",
   "name": "python3"
  },
  "language_info": {
   "codemirror_mode": {
    "name": "ipython",
    "version": 3
   },
   "file_extension": ".py",
   "mimetype": "text/x-python",
   "name": "python",
   "nbconvert_exporter": "python",
   "pygments_lexer": "ipython3",
   "version": "3.8.2"
  }
 },
 "nbformat": 4,
 "nbformat_minor": 4
}
