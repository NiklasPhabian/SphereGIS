{
 "cells": [
  {
   "cell_type": "code",
   "execution_count": 1,
   "metadata": {},
   "outputs": [],
   "source": [
    "import geopandas\n",
    "import numpy\n",
    "import numpy\n",
    "import math\n",
    "import shapely\n",
    "import matplotlib.pyplot as plt\n",
    "from shapely.geometry import polygon   "
   ]
  },
  {
   "cell_type": "code",
   "execution_count": 111,
   "metadata": {},
   "outputs": [
    {
     "data": {
      "text/plain": [
       "<matplotlib.axes._subplots.AxesSubplot at 0x7f2fe8e71640>"
      ]
     },
     "execution_count": 111,
     "metadata": {},
     "output_type": "execute_result"
    },
    {
     "data": {
      "image/png": "[encoded data removed]",
      "text/plain": [
       "<Figure size 432x288 with 1 Axes>"
      ]
     },
     "metadata": {
      "needs_background": "light"
     },
     "output_type": "display_data"
    }
   ],
   "source": [
    "fig, ax = plt.subplots()\n",
    "ax.grid(True)\n",
    "\n",
    "caribbean = geopandas.read_file('../data/caribbean.gpkg') \n",
    "polygons = caribbean[caribbean['NAME_0'] =='Trinidad and Tobago']\n",
    "\n",
    "polygons = geopandas.read_file('../data/santa_barbara.gpkg') \n",
    "#polygons = geopandas.read_file(geopandas.datasets.get_path('naturalearth_lowres'))\n",
    "#polygons = polygons[polygons.name =='Brazil']\n",
    "\n",
    "\n",
    "polygons.plot(ax=ax)"
   ]
  },
  {
   "cell_type": "code",
   "execution_count": null,
   "metadata": {},
   "outputs": [],
   "source": []
  },
  {
   "cell_type": "code",
   "execution_count": 112,
   "metadata": {},
   "outputs": [
    {
     "data": {
      "text/plain": [
       "5115"
      ]
     },
     "execution_count": 112,
     "metadata": {},
     "output_type": "execute_result"
    }
   ],
   "source": [
    "geom_type = polygons.iloc[0].geometry.type\n",
    "if  geom_type == 'Polygon':\n",
    "    # We drop the last point because it is a repetition of the first point\n",
    "    lon = polygons.iloc[0].geometry.exterior.xy[0]\n",
    "    lat = polygons.iloc[0].geometry.exterior.xy[1]\n",
    "elif geom_type == 'MultiPolygon':\n",
    "    lon = []\n",
    "    lat = []\n",
    "    for p in list(polygons.iloc[0].geometry):\n",
    "        lon += polygon.orient(p).exterior.xy[0]\n",
    "        lat += polygon.orient(p).exterior.xy[1]\n",
    "\n",
    "# Dirty trick to get rid of duplicate points\n",
    "#lat, lon = zip(*(set(zip(lat, lon))))\n",
    "\n",
    "lat, lon = zip(*list(dict.fromkeys(zip(lat, lon))))\n",
    "len(lat)\n",
    "\n",
    "#lon, lat = polygons.geometry.iloc[0][0].exterior.xy"
   ]
  },
  {
   "cell_type": "code",
   "execution_count": 113,
   "metadata": {},
   "outputs": [],
   "source": [
    "lon = numpy.array(lon)\n",
    "lat = numpy.array(lat)\n",
    "\n",
    "# We convert to ECEF vectors\n",
    "x = numpy.cos(lon/360*math.pi*2) * numpy.cos(lat/360*math.pi*2)\n",
    "y = numpy.sin(lon/360*math.pi*2) * numpy.cos(lat/360*math.pi*2)\n",
    "z = numpy.sin(lat/360*math.pi*2)\n",
    "\n",
    "# We create a nx3 matrix of the points \n",
    "nodes = numpy.array([x, y, z]).transpose()\n",
    "\n",
    "n = len(x)"
   ]
  },
  {
   "cell_type": "code",
   "execution_count": 114,
   "metadata": {},
   "outputs": [],
   "source": [
    "def test_edge(from_index, to_index):\n",
    "    gc = numpy.cross(nodes[from_index], nodes[to_index])\n",
    "    good = True\n",
    "    for node_index in range(len(nodes)):          \n",
    "        if node_index == from_index or node_index == to_index:\n",
    "            continue\n",
    "        if numpy.dot(nodes[node_index], gc) < 0:\n",
    "            good = False\n",
    "            break            \n",
    "    return good\n",
    "\n",
    "\n",
    "def find_first_from_index():\n",
    "    for from_index in range(1, len(nodes)-1):\n",
    "        if test_edge(from_index, from_index+1):\n",
    "            return from_index, from_index+1\n",
    "            break"
   ]
  },
  {
   "cell_type": "code",
   "execution_count": 115,
   "metadata": {},
   "outputs": [
    {
     "name": "stdout",
     "output_type": "stream",
     "text": [
      "5026 5027\n"
     ]
    }
   ],
   "source": [
    "a, b = find_first_from_index()\n",
    "print(a, b)"
   ]
  },
  {
   "cell_type": "code",
   "execution_count": 103,
   "metadata": {},
   "outputs": [
    {
     "name": "stdout",
     "output_type": "stream",
     "text": [
      "[ 0.48300385 -0.8534313   0.19586297]\n",
      "[ 0.48300292 -0.85342965  0.19587245]\n"
     ]
    }
   ],
   "source": [
    "print(nodes[a])\n",
    "print(nodes[b])"
   ]
  },
  {
   "cell_type": "markdown",
   "metadata": {},
   "source": [
    "# Linear script"
   ]
  },
  {
   "cell_type": "code",
   "execution_count": 104,
   "metadata": {},
   "outputs": [],
   "source": [
    "def insert_node(node_index):\n",
    "    \n",
    "    # Nothing to do if point is already in set of convex hull nodes\n",
    "    if node_index in convex_nodes:\n",
    "        return convex_nodes\n",
    "    \n",
    "    # Nothing to do if a node of same location as the point is already in convex\n",
    "    for node in convex_nodes:\n",
    "        if numpy.array_equal(nodes[node_index], nodes[node]):\n",
    "            return convex_nodes\n",
    "    \n",
    "    # What is the first constraint outside which our point lies?\n",
    "    insertion = -1\n",
    "    for edge_index in range(len(edges)):\n",
    "        direction = numpy.dot(edges[edge_index], nodes[node_index])\n",
    "        if  direction < 0:\n",
    "            insertion = edge_index\n",
    "            break\n",
    "    \n",
    "    # If the point is inside all constraints, it can be discarded\n",
    "    if insertion == -1:\n",
    "        return convex_nodes\n",
    "        \n",
    "    # Otherwise we insert the point in the gap between \n",
    "    # the nodes that define the constraint outside which the point lies\n",
    "    convex_nodes.insert(insertion+1, node_index)\n",
    "    \n",
    "    # We create a new edge from the starting point of the gap to the inserted point\n",
    "    gc = numpy.cross(nodes[convex_nodes[insertion]], nodes[convex_nodes[insertion+1]])\n",
    "    edges[insertion] = gc\n",
    "    \n",
    "    # Now we test if the new node makes successive nodes obsolete \n",
    "    # We don't need to test backwards since the new node would have been inserted in the gap before\n",
    "    direction = 1\n",
    "    while direction >= 0:\n",
    "        from_index = (insertion+1)%len(convex_nodes) \n",
    "        to_index   = (insertion+3)%len(convex_nodes)\n",
    "        test_index = (insertion+2)%len(convex_nodes)\n",
    "        new_arc = numpy.cross(nodes[convex_nodes[from_index]], nodes[convex_nodes[to_index]])\n",
    "        direction = numpy.dot(new_arc, nodes[convex_nodes[test_index]])\n",
    "        if direction >= 0:\n",
    "            convex_nodes.pop(test_index)\n",
    "            edges.pop(test_index-1)\n",
    "    \n",
    "    # We create an edge from the newly inserted node to its next neigbor \n",
    "    # (i.e. the one for which the briding test failed)\n",
    "    gc =  numpy.cross(nodes[convex_nodes[from_index]], nodes[convex_nodes[test_index]])\n",
    "    edges.insert(insertion+1, gc)\n",
    "    return convex_nodes"
   ]
  },
  {
   "cell_type": "code",
   "execution_count": 105,
   "metadata": {},
   "outputs": [
    {
     "name": "stdout",
     "output_type": "stream",
     "text": [
      "[array([-8.41620706e-06, -4.76319586e-06,  0.00000000e+00]), array([8.41620706e-06, 4.76319586e-06, 0.00000000e+00])]\n"
     ]
    }
   ],
   "source": [
    "convex_nodes = []\n",
    "convex_nodes.append(a)\n",
    "convex_nodes.append(b)\n",
    "edges = []\n",
    "edges.append(numpy.cross(nodes[a], nodes[b]))\n",
    "edges.append(numpy.cross(nodes[b], nodes[a]))"
   ]
  },
  {
   "cell_type": "code",
   "execution_count": 106,
   "metadata": {},
   "outputs": [],
   "source": [
    "for i in range(len(nodes)):\n",
    "    insert_node(i)"
   ]
  },
  {
   "cell_type": "markdown",
   "metadata": {},
   "source": [
    "# Object Oriented"
   ]
  },
  {
   "cell_type": "code",
   "execution_count": 107,
   "metadata": {},
   "outputs": [],
   "source": [
    "class ConvexEdge:\n",
    "    \n",
    "    def __init__(self, from_node=None, to_node=None):\n",
    "        self.from_node = from_node\n",
    "        self.to_node = to_node\n",
    "        self.gc = numpy.cross(self.from_node, self.to_node)\n",
    "        \n",
    "    def from_indices(self, from_index, to_index, nodes):\n",
    "        self.from_node = nodes[from_index]\n",
    "        self.to_node = nodes[to_index]\n",
    "        self.gc = numpy.cross(self.from_node, self.to_node)\n",
    "        \n",
    "    def node_outside(self, node):\n",
    "        direction = numpy.dot(self.gc, node)\n",
    "        if direction < 0:            \n",
    "            return True\n",
    "        else: \n",
    "            return False\n",
    "        \n",
    "class CircularList:\n",
    "    \n",
    "    def __init__(self):\n",
    "        self.elements = []\n",
    "        \n",
    "    def get(self, index):\n",
    "        loop_index = index % len(self.elements)\n",
    "        return self.elements[loop_index]\n",
    "    \n",
    "    def pop(self, index):\n",
    "        loop_index = index % len(self.elements)\n",
    "        self.elements.pop(loop_index)\n",
    "        \n",
    "    def append(self, element):\n",
    "        self.elements.append(element)\n",
    "    \n",
    "    def insert(self, index, element):\n",
    "        loop_index = index % len(self.elements)\n",
    "        self.elements.insert(index, element)\n",
    "        \n",
    "    def len(self):\n",
    "        return len(self.elements)\n",
    "\n",
    "\n",
    "class ConvexHull:\n",
    "    \n",
    "    def __init__(self, node1, node2):\n",
    "        self.edges = CircularList()\n",
    "        self.edges.append(ConvexEdge(node1, node2))\n",
    "        self.edges.append(ConvexEdge(node2, node1))\n",
    "           \n",
    "    def nodes(self):\n",
    "        nodes = []\n",
    "        for edge in self.edges.elements:            \n",
    "            nodes.append(edge.from_node)\n",
    "        return nodes\n",
    "    \n",
    "    def insert_node(self, node):\n",
    "        if self.node_already_in_hull(node):\n",
    "            return -1\n",
    "        \n",
    "        insertion_edge_index = self.find_insertion_edge_index(node)\n",
    "        if insertion_edge_index == -1:\n",
    "            return -1\n",
    "        \n",
    "        self.pop_nodes(insertion_edge_index)\n",
    "        self.span_new_nodes(insertion_edge_index)\n",
    "        \n",
    "    def pop_nodes(self, insertion_edge_index):\n",
    "        self.edges.pop(insertion_edge_index)\n",
    "        while self.edges.get(insertion_edge_index).node_outside(node):\n",
    "            self.edges.pop(insertion_edge_index)\n",
    "        \n",
    "    def span_new_nodes(self, insertion_edge_index):\n",
    "        previous_node = self.edges.get(insertion_edge_index-1).to_node\n",
    "        next_node = self.edges.get(insertion_edge_index).from_node\n",
    "        new_edge_1 = ConvexEdge(from_node=previous_node, to_node=node)\n",
    "        new_edge_2 = ConvexEdge(from_node=node, to_node=next_node)\n",
    "        self.edges.insert(insertion_edge_index, new_edge_2)\n",
    "        self.edges.insert(insertion_edge_index, new_edge_1)  \n",
    "    \n",
    "    def node_already_in_hull(self, insert_node):\n",
    "        for node in self.nodes():\n",
    "            if numpy.array_equal(node, insert_node):\n",
    "                return True\n",
    "        return False\n",
    "\n",
    "    def find_insertion_edge(self, node):\n",
    "        for edge in self.edges.elements:\n",
    "            if edge.node_outside(node):\n",
    "                return edge\n",
    "        return -1   \n",
    "    \n",
    "    def find_insertion_edge_index(self, node):\n",
    "        for edge_index in range(self.edges.len()):\n",
    "            edge = self.edges.get(edge_index)\n",
    "            if edge.node_outside(node):\n",
    "                return edge_index\n",
    "        return -1"
   ]
  },
  {
   "cell_type": "code",
   "execution_count": 108,
   "metadata": {},
   "outputs": [],
   "source": [
    "ch = ConvexHull(nodes[a], nodes[b])\n",
    "\n",
    "for node in nodes:\n",
    "    ch.insert_node(node)"
   ]
  },
  {
   "cell_type": "code",
   "execution_count": 109,
   "metadata": {
    "scrolled": true
   },
   "outputs": [
    {
     "name": "stdout",
     "output_type": "stream",
     "text": [
      "101\n",
      "102\n",
      "378\n",
      "268\n",
      "269\n",
      "312\n",
      "1765\n",
      "2161\n",
      "17976\n",
      "17991\n",
      "17994\n",
      "7929\n",
      "7931\n",
      "7933\n",
      "7934\n",
      "7936\n",
      "7942\n",
      "7944\n",
      "7963\n",
      "7971\n",
      "7984\n",
      "7991\n",
      "8001\n",
      "8009\n",
      "8010\n",
      "10565\n",
      "10759\n",
      "11705\n",
      "11722\n"
     ]
    }
   ],
   "source": [
    "for convex_node in ch.nodes():\n",
    "    print(numpy.where(nodes==numpy.array(convex_node[0]))[0][0])"
   ]
  },
  {
   "cell_type": "markdown",
   "metadata": {},
   "source": [
    "# Visualization"
   ]
  },
  {
   "cell_type": "code",
   "execution_count": 110,
   "metadata": {
    "scrolled": false
   },
   "outputs": [
    {
     "data": {
      "text/plain": [
       "<matplotlib.axes._subplots.AxesSubplot at 0x7f2fe961bfa0>"
      ]
     },
     "execution_count": 110,
     "metadata": {},
     "output_type": "execute_result"
    },
    {
     "data": {
      "image/png": "[encoded data removed]",
      "text/plain": [
       "<Figure size 1200x800 with 2 Axes>"
      ]
     },
     "metadata": {
      "needs_background": "light"
     },
     "output_type": "display_data"
    }
   ],
   "source": [
    "fig, ax = plt.subplots(dpi=200)\n",
    "ax.grid(True)\n",
    "\n",
    "polygons.plot(ax=ax, color='b')\n",
    "\n",
    "points = []\n",
    "\n",
    "for node_index in convex_nodes:\n",
    "    points.append(shapely.geometry.Point([lon[node_index], lat[node_index]]))\n",
    "    \n",
    "points = geopandas.GeoDataFrame({'edges': points, 'id':convex_nodes}).set_geometry('edges')\n",
    "points.plot(ax=ax,  column='id', legend=True, cmap='Set1')"
   ]
  },
  {
   "cell_type": "code",
   "execution_count": null,
   "metadata": {},
   "outputs": [],
   "source": []
  }
 ],
 "metadata": {
  "kernelspec": {
   "display_name": "Python 3",
   "language": "python",
   "name": "python3"
  },
  "language_info": {
   "codemirror_mode": {
    "name": "ipython",
    "version": 3
   },
   "file_extension": ".py",
   "mimetype": "text/x-python",
   "name": "python",
   "nbconvert_exporter": "python",
   "pygments_lexer": "ipython3",
   "version": "3.8.2"
  }
 },
 "nbformat": 4,
 "nbformat_minor": 2
}
