{
 "cells": [
  {
   "cell_type": "code",
   "execution_count": 228,
   "metadata": {},
   "outputs": [],
   "source": [
    "import geopandas\n",
    "import numpy\n",
    "import numpy\n",
    "import math\n",
    "import shapely\n",
    "import matplotlib.pyplot as plt\n",
    "from shapely.geometry import polygon   "
   ]
  },
  {
   "cell_type": "code",
   "execution_count": 229,
   "metadata": {},
   "outputs": [
    {
     "name": "stdout",
     "output_type": "stream",
     "text": [
      "['Antigua and Barbuda', 'Aruba', 'Virgin Islands, U.S.', 'Trinidad and Tobago', 'Netherlands Antilles', 'Saint Vincent and the Grenadines', 'Grenada', 'Barbados', 'Saint Lucia', 'Saint Kitts and Nevis', 'Montserrat', 'Jamaica', 'Saint-Martin', 'Haiti', 'Guadeloupe', 'Venezuela', 'Puerto Rico', 'Dominican Republic', 'Anguilla', 'Cayman Islands', 'Turks and Caicos Islands', 'United States', 'Bahamas', 'Martinique', 'Colombia', 'Saint-Barthélemy', 'Cuba', 'Dominica', 'British Virgin Islands']\n"
     ]
    },
    {
     "data": {
      "text/plain": [
       "<matplotlib.axes._subplots.AxesSubplot at 0x7fb7432b43a0>"
      ]
     },
     "execution_count": 229,
     "metadata": {},
     "output_type": "execute_result"
    },
    {
     "data": {
      "image/png": "[encoded data removed]",
      "text/plain": [
       "<Figure size 432x288 with 1 Axes>"
      ]
     },
     "metadata": {
      "needs_background": "light"
     },
     "output_type": "display_data"
    }
   ],
   "source": [
    "fig, ax = plt.subplots()\n",
    "ax.grid(True)\n",
    "\n",
    "\n",
    "caribbean = geopandas.read_file('../data/caribbean.gpkg') \n",
    "names = list(caribbean['NAME_0'])\n",
    "print(names)\n",
    "polygons = caribbean[caribbean['NAME_0'] == 'Trinidad and Tobago']\n",
    "polygons = caribbean[caribbean['NAME_0'] == names[20]] # 20, 25, 26\n",
    "\n",
    "polygons = geopandas.read_file('../data/santa_barbara.gpkg') \n",
    "#polygons = geopandas.read_file(geopandas.datasets.get_path('naturalearth_lowres'))\n",
    "#polygons = polygons[polygons.name =='Brazil']\n",
    "\n",
    "polygons.plot(ax=ax)"
   ]
  },
  {
   "cell_type": "code",
   "execution_count": 230,
   "metadata": {},
   "outputs": [
    {
     "data": {
      "text/plain": [
       "5118"
      ]
     },
     "execution_count": 230,
     "metadata": {},
     "output_type": "execute_result"
    }
   ],
   "source": [
    "geom_type = polygons.iloc[0].geometry.type\n",
    "if  geom_type == 'Polygon':\n",
    "    # We drop the last point because it is a repetition of the first point\n",
    "    lon = polygons.iloc[0].geometry.exterior.xy[0]\n",
    "    lat = polygons.iloc[0].geometry.exterior.xy[1]\n",
    "elif geom_type == 'MultiPolygon':\n",
    "    lon = []\n",
    "    lat = []\n",
    "    for p in list(polygons.iloc[0].geometry):\n",
    "        lon += p.exterior.xy[0]\n",
    "        lat += p.exterior.xy[1]\n",
    "\n",
    "# Dirty trick to get rid of duplicate points\n",
    "#lat, lon = zip(*(set(zip(lat, lon))))\n",
    "\n",
    "#lat, lon = zip(*list(dict.fromkeys(zip(lat, lon))))\n",
    "len(lat)\n",
    "\n",
    "#lon, lat = polygons.geometry.iloc[0][0].exterior.xy"
   ]
  },
  {
   "cell_type": "code",
   "execution_count": 231,
   "metadata": {},
   "outputs": [],
   "source": [
    "lon = numpy.array(lon)\n",
    "lat = numpy.array(lat)\n",
    "\n",
    "# We convert to ECEF vectors\n",
    "x = numpy.cos(lon/360*math.pi*2) * numpy.cos(lat/360*math.pi*2)\n",
    "y = numpy.sin(lon/360*math.pi*2) * numpy.cos(lat/360*math.pi*2)\n",
    "z = numpy.sin(lat/360*math.pi*2)\n",
    "\n",
    "# We create a nx3 matrix of the points \n",
    "nodes = numpy.array([x, y, z]).transpose()\n",
    "\n",
    "n = len(x)"
   ]
  },
  {
   "cell_type": "code",
   "execution_count": 232,
   "metadata": {},
   "outputs": [],
   "source": [
    "def test_edge(from_index, to_index):\n",
    "    gc = numpy.cross(nodes[from_index], nodes[to_index])\n",
    "    good = True\n",
    "    for node_index in range(len(nodes)):          \n",
    "        if node_index == from_index or node_index == to_index:\n",
    "            continue\n",
    "        if numpy.dot(nodes[node_index], gc) < 0:\n",
    "            good = False\n",
    "            break            \n",
    "    return good\n",
    "\n",
    "\n",
    "def find_first_from_index():\n",
    "    for from_index in range(1, len(nodes)-1):\n",
    "        if test_edge(from_index, from_index-1):\n",
    "            return from_index, from_index-1\n",
    "            break"
   ]
  },
  {
   "cell_type": "code",
   "execution_count": 233,
   "metadata": {},
   "outputs": [
    {
     "name": "stdout",
     "output_type": "stream",
     "text": [
      "5003 5002\n"
     ]
    }
   ],
   "source": [
    "a, b = find_first_from_index()\n",
    "print(a, b)"
   ]
  },
  {
   "cell_type": "code",
   "execution_count": 234,
   "metadata": {},
   "outputs": [
    {
     "name": "stdout",
     "output_type": "stream",
     "text": [
      "[-0.40614575 -0.71853574  0.56458128]\n",
      "[-0.40614377 -0.71853586  0.56458255]\n"
     ]
    }
   ],
   "source": [
    "a=5087\n",
    "b=5086\n",
    "print(nodes[a])\n",
    "print(nodes[b])"
   ]
  },
  {
   "cell_type": "markdown",
   "metadata": {},
   "source": [
    "# Linear script"
   ]
  },
  {
   "cell_type": "code",
   "execution_count": 235,
   "metadata": {},
   "outputs": [],
   "source": [
    "def insert_node(node_index):\n",
    "    \n",
    "    # Nothing to do if point is already in set of convex hull nodes\n",
    "    if node_index in convex_nodes:\n",
    "        return convex_nodes\n",
    "    \n",
    "    # Nothing to do if a node of same location as the point is already in convex\n",
    "    for node in convex_nodes:\n",
    "        if numpy.array_equal(nodes[node_index], nodes[node]):\n",
    "            return convex_nodes\n",
    "    \n",
    "    # What is the first constraint outside which our point lies?\n",
    "    insertion = -1\n",
    "    for edge_index in range(len(edges)):\n",
    "        direction = numpy.dot(edges[edge_index], nodes[node_index])\n",
    "        if  direction < 0:\n",
    "            insertion = edge_index\n",
    "            break\n",
    "    \n",
    "    # If the point is inside all constraints, it can be discarded\n",
    "    if insertion == -1:\n",
    "        return convex_nodes\n",
    "        \n",
    "    # Otherwise we insert the point in the gap between \n",
    "    # the nodes that define the constraint outside which the point lies\n",
    "    convex_nodes.insert(insertion+1, node_index)\n",
    "    \n",
    "    # We create a new edge from the starting point of the gap to the inserted point\n",
    "    gc = numpy.cross(nodes[convex_nodes[insertion]], nodes[convex_nodes[insertion+1]])\n",
    "    edges[insertion] = gc\n",
    "    \n",
    "    # Now we test if the new node makes successive nodes obsolete \n",
    "    # We don't need to test backwards since the new node would have been inserted in the gap before\n",
    "    direction = 1\n",
    "    while direction >= 0:\n",
    "        from_index = (insertion+1)%len(convex_nodes) \n",
    "        to_index   = (insertion+3)%len(convex_nodes)\n",
    "        test_index = (insertion+2)%len(convex_nodes)\n",
    "        new_arc = numpy.cross(nodes[convex_nodes[from_index]], nodes[convex_nodes[to_index]])\n",
    "        direction = numpy.dot(new_arc, nodes[convex_nodes[test_index]])\n",
    "        if direction >= 0:\n",
    "            convex_nodes.pop(test_index)\n",
    "            edges.pop(test_index-1)\n",
    "    \n",
    "    # We create an edge from the newly inserted node to its next neigbor \n",
    "    # (i.e. the one for which the briding test failed)\n",
    "    gc =  numpy.cross(nodes[convex_nodes[from_index]], nodes[convex_nodes[test_index]])\n",
    "    edges.insert(insertion+1, gc)\n",
    "    return convex_nodes"
   ]
  },
  {
   "cell_type": "code",
   "execution_count": 236,
   "metadata": {},
   "outputs": [],
   "source": [
    "convex_nodes = []\n",
    "convex_nodes.append(a)\n",
    "convex_nodes.append(b)\n",
    "edges = []\n",
    "edges.append(numpy.cross(nodes[a], nodes[b]))\n",
    "edges.append(numpy.cross(nodes[b], nodes[a]))"
   ]
  },
  {
   "cell_type": "code",
   "execution_count": 237,
   "metadata": {},
   "outputs": [],
   "source": [
    "for i in range(len(nodes)):\n",
    "    insert_node(i)"
   ]
  },
  {
   "cell_type": "code",
   "execution_count": 238,
   "metadata": {},
   "outputs": [
    {
     "data": {
      "text/plain": [
       "[5087,\n",
       " 5086,\n",
       " 4886,\n",
       " 4869,\n",
       " 4861,\n",
       " 4554,\n",
       " 4552,\n",
       " 4480,\n",
       " 4240,\n",
       " 4234,\n",
       " 4221,\n",
       " 3025,\n",
       " 3018,\n",
       " 3012,\n",
       " 2756,\n",
       " 2725,\n",
       " 2717,\n",
       " 2600,\n",
       " 2578,\n",
       " 2576,\n",
       " 5092,\n",
       " 5091,\n",
       " 5088,\n",
       " 4884,\n",
       " 4870,\n",
       " 4862,\n",
       " 4859,\n",
       " 4556,\n",
       " 4490,\n",
       " 4445,\n",
       " 4335,\n",
       " 4243,\n",
       " 4223,\n",
       " 3026,\n",
       " 2760,\n",
       " 2728,\n",
       " 2606,\n",
       " 5093,\n",
       " 4888,\n",
       " 4872,\n",
       " 4863,\n",
       " 4561,\n",
       " 4348,\n",
       " 4345,\n",
       " 4244,\n",
       " 4246,\n",
       " 4224,\n",
       " 3027,\n",
       " 2873,\n",
       " 1404,\n",
       " 5094]"
      ]
     },
     "execution_count": 238,
     "metadata": {},
     "output_type": "execute_result"
    }
   ],
   "source": [
    "convex_nodes"
   ]
  },
  {
   "cell_type": "markdown",
   "metadata": {},
   "source": [
    "# Object Oriented"
   ]
  },
  {
   "cell_type": "code",
   "execution_count": 472,
   "metadata": {},
   "outputs": [],
   "source": [
    "class ConvexEdge:\n",
    "    \n",
    "    def __init__(self, from_node=None, to_node=None):\n",
    "        self.from_node = from_node\n",
    "        self.to_node = to_node\n",
    "        self.gc = numpy.cross(self.from_node, self.to_node)\n",
    "        \n",
    "    def from_indices(self, from_index, to_index, nodes):\n",
    "        self.from_node = nodes[from_index]\n",
    "        self.to_node = nodes[to_index]\n",
    "        self.gc = numpy.cross(self.from_node, self.to_node)\n",
    "        \n",
    "    def node_outside(self, node):\n",
    "        direction = numpy.dot(self.gc, node)\n",
    "        if direction <= 1e-17:            \n",
    "            return True\n",
    "        else: \n",
    "            return False\n",
    "        \n",
    "class CircularList:\n",
    "    \n",
    "    def __init__(self):\n",
    "        self.elements = []\n",
    "        \n",
    "    def get(self, index):\n",
    "        loop_index = index % len(self.elements)\n",
    "        return self.elements[loop_index]\n",
    "    \n",
    "    def pop(self, index):\n",
    "        loop_index = index % len(self.elements)\n",
    "        self.elements.pop(loop_index)\n",
    "        \n",
    "    def append(self, element):\n",
    "        self.elements.append(element)\n",
    "    \n",
    "    def insert(self, index, element):\n",
    "        loop_index = index % len(self.elements)\n",
    "        self.elements.insert(index, element)\n",
    "        \n",
    "    def len(self):\n",
    "        return len(self.elements)\n",
    "\n",
    "\n",
    "class ConvexHull:\n",
    "    \n",
    "    def __init__(self, node1, node2):\n",
    "        self.edges = CircularList()\n",
    "        self.edges.append(ConvexEdge(node1, node2))\n",
    "        self.edges.append(ConvexEdge(node2, node1))\n",
    "           \n",
    "    def nodes(self):\n",
    "        nodes = []\n",
    "        for edge in self.edges.elements:            \n",
    "            nodes.append(edge.from_node)\n",
    "        return nodes\n",
    "    \n",
    "    def insert_node(self, node):\n",
    "        if self.node_already_in_hull(node):\n",
    "            return -1\n",
    "        \n",
    "        insertion_edge_index = self.find_insertion_edge_index(node)\n",
    "        if insertion_edge_index == -1:\n",
    "            return -1\n",
    "                \n",
    "        self.pop_nodes(insertion_edge_index, node)\n",
    "        self.span_new_nodes(insertion_edge_index, node)\n",
    "        \n",
    "    def pop_nodes(self, insertion_edge_index, node):\n",
    "        self.edges.pop(insertion_edge_index)\n",
    "        while self.edges.get(insertion_edge_index).node_outside(node):\n",
    "            self.edges.pop(insertion_edge_index)\n",
    "        \n",
    "    def span_new_nodes(self, insertion_edge_index, node):\n",
    "        previous_node = self.edges.get(insertion_edge_index-1).to_node\n",
    "        next_node = self.edges.get(insertion_edge_index).from_node\n",
    "        new_edge_1 = ConvexEdge(from_node=previous_node, to_node=node)\n",
    "        new_edge_2 = ConvexEdge(from_node=node, to_node=next_node)\n",
    "        self.edges.insert(insertion_edge_index, new_edge_2)\n",
    "        self.edges.insert(insertion_edge_index, new_edge_1)  \n",
    "    \n",
    "    def node_already_in_hull(self, insert_node):\n",
    "        for node in self.nodes():\n",
    "            if numpy.array_equal(node, insert_node):                \n",
    "                return True\n",
    "        return False\n",
    "\n",
    "    def find_insertion_edge(self, node):\n",
    "        for edge in self.edges.elements:\n",
    "            if edge.node_outside(node):\n",
    "                return edge\n",
    "        return -1   \n",
    "    \n",
    "    def find_insertion_edge_index(self, node):\n",
    "        for edge_index in range(self.edges.len()):\n",
    "            edge = self.edges.get(edge_index)\n",
    "            if edge.node_outside(node):\n",
    "                return edge_index\n",
    "        return -1"
   ]
  },
  {
   "cell_type": "code",
   "execution_count": 473,
   "metadata": {},
   "outputs": [],
   "source": [
    "ch = ConvexHull(nodes[a], nodes[b])\n",
    "\n",
    "for node in nodes[:]:\n",
    "    ch.insert_node(node)   "
   ]
  },
  {
   "cell_type": "code",
   "execution_count": 475,
   "metadata": {
    "scrolled": false
   },
   "outputs": [
    {
     "data": {
      "text/plain": [
       "[5087,\n",
       " 5086,\n",
       " 4886,\n",
       " 4869,\n",
       " 4861,\n",
       " 4554,\n",
       " 4552,\n",
       " 4480,\n",
       " 4240,\n",
       " 4234,\n",
       " 4221,\n",
       " 3025,\n",
       " 3018,\n",
       " 3012,\n",
       " 2756,\n",
       " 2725,\n",
       " 2717,\n",
       " 2600,\n",
       " 2578,\n",
       " 2576,\n",
       " 5092,\n",
       " 5091,\n",
       " 5088]"
      ]
     },
     "execution_count": 475,
     "metadata": {},
     "output_type": "execute_result"
    }
   ],
   "source": [
    "convex_node_ids = []\n",
    "for convex_node in ch.nodes():\n",
    "    idx = numpy.where(nodes==numpy.array(convex_node[0]))[0][0]\n",
    "    convex_node_ids.append(idx)\n",
    "\n",
    "convex_node_ids"
   ]
  },
  {
   "cell_type": "markdown",
   "metadata": {},
   "source": [
    "# Visualization"
   ]
  },
  {
   "cell_type": "code",
   "execution_count": 478,
   "metadata": {
    "scrolled": false
   },
   "outputs": [
    {
     "data": {
      "text/plain": [
       "<matplotlib.axes._subplots.AxesSubplot at 0x7fb740ae7220>"
      ]
     },
     "execution_count": 478,
     "metadata": {},
     "output_type": "execute_result"
    },
    {
     "data": {
      "image/png": "[encoded data removed]",
      "text/plain": [
       "<Figure size 1200x800 with 2 Axes>"
      ]
     },
     "metadata": {
      "needs_background": "light"
     },
     "output_type": "display_data"
    }
   ],
   "source": [
    "fig, ax = plt.subplots(dpi=200)\n",
    "ax.grid(True)\n",
    "\n",
    "\n",
    "points = []\n",
    "\n",
    "for node_index in convex_node_ids:\n",
    "    points.append(shapely.geometry.Point([lon[node_index], lat[node_index]]))\n",
    "\n",
    "p = shapely.geometry.LineString(zip(lon[convex_node_ids], lat[convex_node_ids]))\n",
    "\n",
    "points = geopandas.GeoDataFrame({'edges': points, 'id': convex_node_ids}).set_geometry('edges')\n",
    "p = geopandas.GeoDataFrame({'p': [p]}).set_geometry('p').plot(ax=ax)\n",
    "points.plot(ax=ax,  column='id', legend=True, cmap='Set1')\n",
    "polygons.plot(ax=ax, color='b')"
   ]
  },
  {
   "cell_type": "code",
   "execution_count": null,
   "metadata": {},
   "outputs": [],
   "source": []
  },
  {
   "cell_type": "code",
   "execution_count": null,
   "metadata": {},
   "outputs": [],
   "source": []
  },
  {
   "cell_type": "code",
   "execution_count": null,
   "metadata": {},
   "outputs": [],
   "source": []
  }
 ],
 "metadata": {
  "kernelspec": {
   "display_name": "Python 3",
   "language": "python",
   "name": "python3"
  },
  "language_info": {
   "codemirror_mode": {
    "name": "ipython",
    "version": 3
   },
   "file_extension": ".py",
   "mimetype": "text/x-python",
   "name": "python",
   "nbconvert_exporter": "python",
   "pygments_lexer": "ipython3",
   "version": "3.8.2"
  }
 },
 "nbformat": 4,
 "nbformat_minor": 2
}
